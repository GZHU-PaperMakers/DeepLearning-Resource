{
 "cells": [
  {
   "cell_type": "code",
   "execution_count": 5,
   "metadata": {
    "colab": {},
    "colab_type": "code",
    "id": "wYtuKeK0dImp"
   },
   "outputs": [],
   "source": [
    "import csv\n",
    "import numpy as np\n",
    "import tensorflow as tf\n",
    "from tensorflow.keras.preprocessing.image import ImageDataGenerator\n",
    "from google.colab import files"
   ]
  },
  {
   "cell_type": "markdown",
   "metadata": {
    "colab_type": "text",
    "id": "EmMyh9_mkDHF"
   },
   "source": [
    "The data for this exercise is available at: https://www.kaggle.com/datamunge/sign-language-mnist/home\n",
    "\n",
    "Sign up and download to find 2 CSV files: sign_mnist_test.csv and sign_mnist_train.csv -- You will upload both of them using this button before you can continue.\n"
   ]
  },
  {
   "cell_type": "code",
   "execution_count": 0,
   "metadata": {
    "colab": {},
    "colab_type": "code",
    "id": "IcLOZlnnc_N7"
   },
   "outputs": [],
   "source": [
    "uploaded=files.upload()"
   ]
  },
  {
   "cell_type": "code",
   "execution_count": 10,
   "metadata": {
    "colab": {},
    "colab_type": "code",
    "id": "4kxw-_rmcnVu"
   },
   "outputs": [
    {
     "name": "stdout",
     "output_type": "stream",
     "text": [
      "(27455, 28, 28)\n",
      "(27455,)\n",
      "(7172, 28, 28)\n",
      "(7172,)\n"
     ]
    }
   ],
   "source": [
    "def get_data(filename):\n",
    "  # You will need to write code that will read the file passed\n",
    "  # into this function. The first line contains the column headers\n",
    "  # so you should ignore it\n",
    "  # Each successive line contians 785 comma separated values between 0 and 255\n",
    "  # The first value is the label\n",
    "  # The rest are the pixel values for that picture\n",
    "  # The function will return 2 np.array types. One with all the labels\n",
    "  # One with all the images\n",
    "  #\n",
    "  # Tips: \n",
    "  # If you read a full line (as 'row') then row[0] has the label\n",
    "  # and row[1:785] has the 784 pixel values\n",
    "  # Take a look at np.array_split to turn the 784 pixels into 28x28\n",
    "  # You are reading in strings, but need the values to be floats\n",
    "  # Check out np.array().astype for a conversion\n",
    "  with open(filename) as training_file:\n",
    "    reader = list(csv.reader(training_file, delimiter=',', quotechar='|'))\n",
    "    # Your code starts here\n",
    "    images, labels = [], []\n",
    "    for i in range(1, len(reader)):\n",
    "      labels.append(reader[i][0])\n",
    "      images.append(np.array_split(reader[i][1:], 28))\n",
    "    # Your code ends here\n",
    "    return np.array(images), np.array(labels)\n",
    "\n",
    "\n",
    "training_images, training_labels = get_data('sign_mnist_train.csv')\n",
    "testing_images, testing_labels = get_data('sign_mnist_test.csv')\n",
    "\n",
    "# Keep these\n",
    "print(training_images.shape)\n",
    "print(training_labels.shape)\n",
    "print(testing_images.shape)\n",
    "print(testing_labels.shape)\n",
    "\n",
    "# Their output should be:\n",
    "# (27455, 28, 28)\n",
    "# (27455,)\n",
    "# (7172, 28, 28)\n",
    "# (7172,)"
   ]
  },
  {
   "cell_type": "code",
   "execution_count": 11,
   "metadata": {
    "colab": {},
    "colab_type": "code",
    "id": "awoqRpyZdQkD"
   },
   "outputs": [
    {
     "name": "stdout",
     "output_type": "stream",
     "text": [
      "(27455, 28, 28, 1)\n",
      "(7172, 28, 28, 1)\n"
     ]
    },
    {
     "name": "stderr",
     "output_type": "stream",
     "text": [
      "D:\\Anaconda3\\envs\\python36\\lib\\site-packages\\ipykernel_launcher.py:6: DeprecationWarning: Both axis > a.ndim and axis < -a.ndim - 1 are deprecated and will raise an AxisError in the future.\n",
      "  \n",
      "D:\\Anaconda3\\envs\\python36\\lib\\site-packages\\ipykernel_launcher.py:7: DeprecationWarning: Both axis > a.ndim and axis < -a.ndim - 1 are deprecated and will raise an AxisError in the future.\n",
      "  import sys\n"
     ]
    }
   ],
   "source": [
    "# In this section you will have to add another dimension to the data\n",
    "# So, for example, if your array is (10000, 28, 28)\n",
    "# You will need to make it (10000, 28, 28, 1)\n",
    "# Hint: np.expand_dims\n",
    "\n",
    "training_images = np.expand_dims(training_images, axis=4)# Your Code Here\n",
    "testing_images = np.expand_dims(testing_images, axis=4)# Your Code Here\n",
    "\n",
    "# Create an ImageDataGenerator and do Image Augmentation\n",
    "train_datagen = ImageDataGenerator(rescale=1./255., # Your Code Here\n",
    "                                   rotation_range=40,\n",
    "                                   width_shift_range=0.2,\n",
    "                                   height_shift_range=0.2,\n",
    "                                   shear_range=0.2,\n",
    "                                   zoom_range=0.2,\n",
    "                                   horizontal_flip=True)\n",
    "\n",
    "validation_datagen = ImageDataGenerator(rescale=1./255.) # Your Code Here\n",
    "    \n",
    "# Keep These\n",
    "print(training_images.shape)\n",
    "print(testing_images.shape)\n",
    "    \n",
    "# Their output should be:\n",
    "# (27455, 28, 28, 1)\n",
    "# (7172, 28, 28, 1)"
   ]
  },
  {
   "cell_type": "code",
   "execution_count": 17,
   "metadata": {
    "colab": {},
    "colab_type": "code",
    "id": "Rmb7S32cgRqS"
   },
   "outputs": [
    {
     "name": "stdout",
     "output_type": "stream",
     "text": [
      "Epoch 1/15\n",
      "225/225 [==============================] - 0s 2ms/step - loss: 1.4590 - acc: 0.5233\n",
      "858/858 [==============================] - 7s 9ms/step - loss: 2.6148 - acc: 0.2047 - val_loss: 1.4590 - val_acc: 0.5233\n",
      "Epoch 2/15\n",
      "225/225 [==============================] - 0s 2ms/step - loss: 0.9617 - acc: 0.6606\n",
      "858/858 [==============================] - 6s 7ms/step - loss: 1.7640 - acc: 0.4392 - val_loss: 0.9617 - val_acc: 0.6606\n",
      "Epoch 3/15\n",
      "225/225 [==============================] - 0s 2ms/step - loss: 0.6663 - acc: 0.7574\n",
      "858/858 [==============================] - 6s 7ms/step - loss: 1.3014 - acc: 0.5763 - val_loss: 0.6663 - val_acc: 0.7574\n",
      "Epoch 4/15\n",
      "225/225 [==============================] - 0s 2ms/step - loss: 0.5686 - acc: 0.7690\n",
      "858/858 [==============================] - 6s 7ms/step - loss: 1.0192 - acc: 0.6651 - val_loss: 0.5686 - val_acc: 0.7690\n",
      "Epoch 5/15\n",
      "225/225 [==============================] - 0s 2ms/step - loss: 0.5687 - acc: 0.7939\n",
      "858/858 [==============================] - 6s 7ms/step - loss: 0.8435 - acc: 0.7222 - val_loss: 0.5687 - val_acc: 0.7939\n",
      "Epoch 6/15\n",
      "225/225 [==============================] - 0s 2ms/step - loss: 0.3641 - acc: 0.8582\n",
      "858/858 [==============================] - 6s 7ms/step - loss: 0.6968 - acc: 0.7685 - val_loss: 0.3641 - val_acc: 0.8582\n",
      "Epoch 7/15\n",
      "225/225 [==============================] - 0s 2ms/step - loss: 0.2870 - acc: 0.8975\n",
      "858/858 [==============================] - 6s 7ms/step - loss: 0.6243 - acc: 0.7926 - val_loss: 0.2870 - val_acc: 0.8975\n",
      "Epoch 8/15\n",
      "225/225 [==============================] - 0s 2ms/step - loss: 0.1768 - acc: 0.9375\n",
      "858/858 [==============================] - 6s 7ms/step - loss: 0.5593 - acc: 0.8176 - val_loss: 0.1768 - val_acc: 0.9375\n",
      "Epoch 9/15\n",
      "225/225 [==============================] - 0s 2ms/step - loss: 0.2124 - acc: 0.9197\n",
      "858/858 [==============================] - 6s 7ms/step - loss: 0.5021 - acc: 0.8345 - val_loss: 0.2124 - val_acc: 0.9197\n",
      "Epoch 10/15\n",
      "225/225 [==============================] - 0s 2ms/step - loss: 0.1455 - acc: 0.9518\n",
      "858/858 [==============================] - 6s 7ms/step - loss: 0.4675 - acc: 0.8478 - val_loss: 0.1455 - val_acc: 0.9518\n",
      "Epoch 11/15\n",
      "225/225 [==============================] - 0s 2ms/step - loss: 0.1528 - acc: 0.9499\n",
      "858/858 [==============================] - 6s 7ms/step - loss: 0.4299 - acc: 0.8585 - val_loss: 0.1528 - val_acc: 0.9499\n",
      "Epoch 12/15\n",
      "225/225 [==============================] - 0s 2ms/step - loss: 0.2243 - acc: 0.9142\n",
      "858/858 [==============================] - 6s 7ms/step - loss: 0.3999 - acc: 0.8700 - val_loss: 0.2243 - val_acc: 0.9142\n",
      "Epoch 13/15\n",
      "225/225 [==============================] - 0s 2ms/step - loss: 0.1238 - acc: 0.9594\n",
      "858/858 [==============================] - 6s 7ms/step - loss: 0.3817 - acc: 0.8757 - val_loss: 0.1238 - val_acc: 0.9594\n",
      "Epoch 14/15\n",
      "225/225 [==============================] - 0s 2ms/step - loss: 0.1050 - acc: 0.9621\n",
      "858/858 [==============================] - 6s 7ms/step - loss: 0.3651 - acc: 0.8828 - val_loss: 0.1050 - val_acc: 0.9621\n",
      "Epoch 15/15\n",
      "225/225 [==============================] - 1s 3ms/step - loss: 0.1359 - acc: 0.9501\n",
      "858/858 [==============================] - 7s 8ms/step - loss: 0.3492 - acc: 0.8876 - val_loss: 0.1359 - val_acc: 0.9501\n",
      "7172/7172 [==============================] - 2s 333us/sample - loss: 3.9249 - acc: 0.7540s - loss: 3.8525 - \n"
     ]
    },
    {
     "data": {
      "text/plain": [
       "[6.92426086682151, 0.56609035]"
      ]
     },
     "execution_count": 17,
     "metadata": {},
     "output_type": "execute_result"
    }
   ],
   "source": [
    "# Define the model\n",
    "# Use no more than 2 Conv2D and 2 MaxPooling2D\n",
    "model = tf.keras.models.Sequential([\n",
    "    # Your Code Here\n",
    "    tf.keras.layers.Conv2D(32, (3,3), input_shape=(28, 28, 1), activation='relu'),\n",
    "    tf.keras.layers.MaxPooling2D(2,2),\n",
    "    tf.keras.layers.Conv2D(64, (3,3), activation='relu'),\n",
    "    tf.keras.layers.MaxPooling2D(2,2),\n",
    "    tf.keras.layers.Flatten(),\n",
    "    tf.keras.layers.Dense(512, activation='relu'),\n",
    "    tf.keras.layers.Dense(26, activation='softmax')\n",
    "])\n",
    "\n",
    "# Compile Model. \n",
    "model.compile(loss='sparse_categorical_crossentropy', \n",
    "              optimizer=tf.keras.optimizers.RMSprop(lr=0.001), \n",
    "              metrics=['acc'])\n",
    "\n",
    "# Train the Model\n",
    "history = model.fit_generator(train_datagen.flow(training_images, training_labels, batch_size=32),\n",
    "                              steps_per_epoch=len(training_images) / 32,\n",
    "                              epochs=15,\n",
    "                              validation_data=validation_datagen.flow(testing_images, testing_labels, batch_size=32),\n",
    "                              validation_steps=len(testing_images) / 32)\n",
    "\n",
    "model.evaluate(testing_images, testing_labels)\n",
    "\n",
    "# The output from model.evaluate should be close to:\n",
    "[6.92426086682151, 0.56609035]\n"
   ]
  },
  {
   "cell_type": "code",
   "execution_count": 20,
   "metadata": {
    "colab": {},
    "colab_type": "code",
    "id": "_Q3Zpr46dsij"
   },
   "outputs": [
    {
     "data": {
      "text/plain": [
       "<Figure size 432x288 with 0 Axes>"
      ]
     },
     "execution_count": 20,
     "metadata": {},
     "output_type": "execute_result"
    },
    {
     "data": {
      "image/png": "[encoded data removed]",
      "text/plain": [
       "<Figure size 432x288 with 1 Axes>"
      ]
     },
     "metadata": {
      "needs_background": "light"
     },
     "output_type": "display_data"
    },
    {
     "data": {
      "text/plain": [
       "<Figure size 432x288 with 0 Axes>"
      ]
     },
     "metadata": {},
     "output_type": "display_data"
    }
   ],
   "source": [
    "# Plot the chart for accuracy and loss on both training and validation\n",
    "\n",
    "import matplotlib.pyplot as plt\n",
    "acc = history.history['acc']\n",
    "val_acc = history.history['val_acc']\n",
    "loss = history.history['loss']\n",
    "val_loss = history.history['val_loss']\n",
    "\n",
    "epochs = range(len(acc))\n",
    "\n",
    "plt.plot(epochs, acc, 'r', label='Training accuracy')\n",
    "plt.plot(epochs, val_acc, 'b', label='Validation accuracy')\n",
    "plt.title('Training and validation accuracy')\n",
    "plt.legend()\n",
    "plt.figure()"
   ]
  },
  {
   "cell_type": "code",
   "execution_count": 21,
   "metadata": {},
   "outputs": [
    {
     "data": {
      "image/png": "[encoded data removed]",
      "text/plain": [
       "<Figure size 432x288 with 1 Axes>"
      ]
     },
     "metadata": {
      "needs_background": "light"
     },
     "output_type": "display_data"
    },
    {
     "data": {
      "text/plain": [
       "<Figure size 432x288 with 0 Axes>"
      ]
     },
     "metadata": {},
     "output_type": "display_data"
    }
   ],
   "source": [
    "plt.plot(epochs, loss, 'r', label='Training Loss')\n",
    "plt.plot(epochs, val_loss, 'b', label='Validation Loss')\n",
    "plt.title('Training and validation loss')\n",
    "plt.legend()\n",
    "plt.figure()\n",
    "\n",
    "plt.show()"
   ]
  },
  {
   "cell_type": "code",
   "execution_count": null,
   "metadata": {},
   "outputs": [],
   "source": []
  }
 ],
 "metadata": {
  "colab": {
   "name": "Exercise 8 - Question.ipynb",
   "provenance": [
    {
     "file_id": "1KMi9wAhMhxvuc-bfptkCUlnVRGrh5ySj",
     "timestamp": 1550682934823
    }
   ],
   "version": "0.3.2"
  },
  "kernelspec": {
   "display_name": "Python (Python 3.6)",
   "language": "python",
   "name": "python36"
  },
  "language_info": {
   "codemirror_mode": {
    "name": "ipython",
    "version": 3
   },
   "file_extension": ".py",
   "mimetype": "text/x-python",
   "name": "python",
   "nbconvert_exporter": "python",
   "pygments_lexer": "ipython3",
   "version": "3.6.8"
  }
 },
 "nbformat": 4,
 "nbformat_minor": 1
}
